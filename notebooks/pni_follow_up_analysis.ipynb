{
 "cells": [
  {
   "cell_type": "code",
   "execution_count": 1,
   "metadata": {},
   "outputs": [],
   "source": [
    "import pandas as pd\n",
    "import xgboost\n",
    "from sklearn.ensemble import RandomForestClassifier\n",
    "from sklearn.model_selection import train_test_split, cross_validate, StratifiedKFold, cross_val_predict\n",
    "import matplotlib.pyplot as plt\n",
    "import seaborn as sns\n",
    "from sklearn.metrics import roc_auc_score,recall_score, precision_score, accuracy_score, f1_score, roc_curve,auc,precision_recall_curve\n",
    "import numpy as np\n",
    "from sklearn.utils import shuffle\n",
    "import warnings\n",
    "warnings.filterwarnings(\"ignore\")"
   ]
  },
  {
   "cell_type": "code",
   "execution_count": 2,
   "metadata": {},
   "outputs": [],
   "source": [
    "df = pd.read_csv('../data/PNI_001_cleaned.csv')\n",
    "X = df.drop(['PNI','ID'],axis = 1)\n",
    "y = df['PNI']"
   ]
  },
  {
   "cell_type": "markdown",
   "metadata": {},
   "source": [
    "## Perform 10 random (80/20) splits and report AUC for PNI classifier"
   ]
  },
  {
   "cell_type": "markdown",
   "metadata": {},
   "source": [
    "### shuffle before splitting for more randomness"
   ]
  },
  {
   "cell_type": "code",
   "execution_count": 3,
   "metadata": {},
   "outputs": [],
   "source": [
    "X, y = shuffle(X, y, random_state=0)"
   ]
  },
  {
   "cell_type": "code",
   "execution_count": 4,
   "metadata": {},
   "outputs": [],
   "source": [
    "roc_auc_list = []\n",
    "for i in range(10):\n",
    "    # split dataset randomly (change random state parameter every iteration)\n",
    "    X_train, X_test, y_train, y_test = train_test_split(X, y, random_state = i, test_size = .2)\n",
    "    \n",
    "    # fit model and output prediction probabilities for class 1 \n",
    "    rf_model = RandomForestClassifier(n_estimators=100, \n",
    "                                      max_depth=25, \n",
    "                                      min_samples_leaf=3, \n",
    "                                      verbose=0, \n",
    "                                      random_state = 1)\n",
    "    rf_model.fit(X_train,y_train)\n",
    "    \n",
    "    y_pred_proba = rf_model.predict_proba(X_test)[:,1]\n",
    "    \n",
    "    # generate roc auc score and append to the list \n",
    "    roc_auc = roc_auc_score(y_test, y_pred_proba)\n",
    "    roc_auc_list.append(roc_auc)"
   ]
  },
  {
   "cell_type": "code",
   "execution_count": 5,
   "metadata": {},
   "outputs": [
    {
     "data": {
      "text/plain": [
       "[0.778446261682243,\n",
       " 0.7955356044766942,\n",
       " 0.7620929683813119,\n",
       " 0.7409467309356075,\n",
       " 0.7684190809190808,\n",
       " 0.8216149068322982,\n",
       " 0.7684227330779055,\n",
       " 0.7911845401407611,\n",
       " 0.7920454545454545,\n",
       " 0.7709165834165834]"
      ]
     },
     "execution_count": 5,
     "metadata": {},
     "output_type": "execute_result"
    }
   ],
   "source": [
    "roc_auc_list"
   ]
  },
  {
   "cell_type": "markdown",
   "metadata": {},
   "source": [
    "## report AUC statistics"
   ]
  },
  {
   "cell_type": "code",
   "execution_count": 6,
   "metadata": {},
   "outputs": [
    {
     "name": "stdout",
     "output_type": "stream",
     "text": [
      "mean auc for 10 folds is 0.779\n",
      "std auc for 10 folds is 0.021\n",
      "max auc for 10 folds is 0.822\n",
      "min auc for 10 folds is 0.741\n"
     ]
    }
   ],
   "source": [
    "print('mean auc for 10 folds (all features) is {:.3f}'.format(np.mean(roc_auc_list)))\n",
    "print('std auc for 10 folds (all features) is {:.3f}'.format(np.std(roc_auc_list)))\n",
    "print('max auc for 10 folds (all features) is {:.3f}'.format(np.max(roc_auc_list)))\n",
    "print('min auc for 10 folds (all features) is {:.3f}'.format(np.min(roc_auc_list)))"
   ]
  },
  {
   "cell_type": "markdown",
   "metadata": {},
   "source": [
    "## Obtain index of best fold"
   ]
  },
  {
   "cell_type": "code",
   "execution_count": 7,
   "metadata": {},
   "outputs": [
    {
     "name": "stdout",
     "output_type": "stream",
     "text": [
      "best fold index is 5\n"
     ]
    }
   ],
   "source": [
    "print('best fold index is {}'.format(np.argmax(roc_auc_list)))"
   ]
  },
  {
   "cell_type": "markdown",
   "metadata": {},
   "source": [
    "## Refit best fold and validate performance"
   ]
  },
  {
   "cell_type": "code",
   "execution_count": 8,
   "metadata": {},
   "outputs": [
    {
     "name": "stdout",
     "output_type": "stream",
     "text": [
      "best fold roc auc score is 0.822\n"
     ]
    }
   ],
   "source": [
    "# split dataset randomly (change random state parameter every iteration)\n",
    "X_train, X_test, y_train, y_test = train_test_split(X, y, random_state = 5, test_size = .2)\n",
    "\n",
    "# fit model and output prediction probabilities for class 1 \n",
    "rf_model = RandomForestClassifier(n_estimators=100, \n",
    "                                  max_depth=25, \n",
    "                                  min_samples_leaf=3, \n",
    "                                  verbose=0, \n",
    "                                  random_state = 1)\n",
    "rf_model.fit(X_train,y_train)\n",
    "\n",
    "y_pred_proba = rf_model.predict_proba(X_test)[:,1]\n",
    "\n",
    "# generate roc auc score and append to the list \n",
    "roc_auc = roc_auc_score(y_test, y_pred_proba)\n",
    "print('best fold roc auc score is {:.3f}'.format(roc_auc))"
   ]
  },
  {
   "cell_type": "markdown",
   "metadata": {},
   "source": [
    "## Output feature importance"
   ]
  },
  {
   "cell_type": "code",
   "execution_count": 9,
   "metadata": {},
   "outputs": [],
   "source": [
    "df_feature_importance = pd.DataFrame({\n",
    "    'feature': X.columns,\n",
    "    'feature_importance': rf_model.feature_importances_\n",
    "})"
   ]
  },
  {
   "cell_type": "code",
   "execution_count": 10,
   "metadata": {},
   "outputs": [],
   "source": [
    "df_feature_importance = df_feature_importance.sort_values(by = 'feature_importance', ascending = False)"
   ]
  },
  {
   "cell_type": "code",
   "execution_count": 11,
   "metadata": {},
   "outputs": [
    {
     "data": {
      "text/html": [
       "<div>\n",
       "<style scoped>\n",
       "    .dataframe tbody tr th:only-of-type {\n",
       "        vertical-align: middle;\n",
       "    }\n",
       "\n",
       "    .dataframe tbody tr th {\n",
       "        vertical-align: top;\n",
       "    }\n",
       "\n",
       "    .dataframe thead th {\n",
       "        text-align: right;\n",
       "    }\n",
       "</style>\n",
       "<table border=\"1\" class=\"dataframe\">\n",
       "  <thead>\n",
       "    <tr style=\"text-align: right;\">\n",
       "      <th></th>\n",
       "      <th>feature</th>\n",
       "      <th>feature_importance</th>\n",
       "    </tr>\n",
       "  </thead>\n",
       "  <tbody>\n",
       "    <tr>\n",
       "      <th>676</th>\n",
       "      <td>PRSS23</td>\n",
       "      <td>0.010923</td>\n",
       "    </tr>\n",
       "    <tr>\n",
       "      <th>977</th>\n",
       "      <td>VPS45</td>\n",
       "      <td>0.010585</td>\n",
       "    </tr>\n",
       "    <tr>\n",
       "      <th>983</th>\n",
       "      <td>WDR89</td>\n",
       "      <td>0.008390</td>\n",
       "    </tr>\n",
       "    <tr>\n",
       "      <th>35</th>\n",
       "      <td>ANKUB1</td>\n",
       "      <td>0.008278</td>\n",
       "    </tr>\n",
       "    <tr>\n",
       "      <th>701</th>\n",
       "      <td>RALY</td>\n",
       "      <td>0.006719</td>\n",
       "    </tr>\n",
       "    <tr>\n",
       "      <th>388</th>\n",
       "      <td>HSPD1</td>\n",
       "      <td>0.006644</td>\n",
       "    </tr>\n",
       "    <tr>\n",
       "      <th>659</th>\n",
       "      <td>PPP2R2DP1</td>\n",
       "      <td>0.005872</td>\n",
       "    </tr>\n",
       "    <tr>\n",
       "      <th>185</th>\n",
       "      <td>CNOT6</td>\n",
       "      <td>0.005806</td>\n",
       "    </tr>\n",
       "    <tr>\n",
       "      <th>519</th>\n",
       "      <td>MIR4797</td>\n",
       "      <td>0.005749</td>\n",
       "    </tr>\n",
       "    <tr>\n",
       "      <th>891</th>\n",
       "      <td>TEX38</td>\n",
       "      <td>0.005330</td>\n",
       "    </tr>\n",
       "    <tr>\n",
       "      <th>780</th>\n",
       "      <td>RPUSD4</td>\n",
       "      <td>0.005203</td>\n",
       "    </tr>\n",
       "    <tr>\n",
       "      <th>916</th>\n",
       "      <td>TMEM79</td>\n",
       "      <td>0.004885</td>\n",
       "    </tr>\n",
       "    <tr>\n",
       "      <th>902</th>\n",
       "      <td>TLR10</td>\n",
       "      <td>0.004675</td>\n",
       "    </tr>\n",
       "    <tr>\n",
       "      <th>101</th>\n",
       "      <td>C4orf45</td>\n",
       "      <td>0.004624</td>\n",
       "    </tr>\n",
       "    <tr>\n",
       "      <th>283</th>\n",
       "      <td>EZH2P1</td>\n",
       "      <td>0.004498</td>\n",
       "    </tr>\n",
       "    <tr>\n",
       "      <th>769</th>\n",
       "      <td>RPL23AP57</td>\n",
       "      <td>0.004446</td>\n",
       "    </tr>\n",
       "    <tr>\n",
       "      <th>44</th>\n",
       "      <td>APOBEC3B</td>\n",
       "      <td>0.004321</td>\n",
       "    </tr>\n",
       "    <tr>\n",
       "      <th>808</th>\n",
       "      <td>SH2B3</td>\n",
       "      <td>0.004114</td>\n",
       "    </tr>\n",
       "    <tr>\n",
       "      <th>438</th>\n",
       "      <td>KRTAP5-2</td>\n",
       "      <td>0.004104</td>\n",
       "    </tr>\n",
       "    <tr>\n",
       "      <th>509</th>\n",
       "      <td>MGMT</td>\n",
       "      <td>0.004057</td>\n",
       "    </tr>\n",
       "    <tr>\n",
       "      <th>305</th>\n",
       "      <td>FBXO43</td>\n",
       "      <td>0.003982</td>\n",
       "    </tr>\n",
       "    <tr>\n",
       "      <th>3</th>\n",
       "      <td>ABHD16B</td>\n",
       "      <td>0.003706</td>\n",
       "    </tr>\n",
       "    <tr>\n",
       "      <th>675</th>\n",
       "      <td>PRRC1</td>\n",
       "      <td>0.003692</td>\n",
       "    </tr>\n",
       "    <tr>\n",
       "      <th>742</th>\n",
       "      <td>RN7SL88P</td>\n",
       "      <td>0.003680</td>\n",
       "    </tr>\n",
       "    <tr>\n",
       "      <th>116</th>\n",
       "      <td>CATSPER1</td>\n",
       "      <td>0.003583</td>\n",
       "    </tr>\n",
       "    <tr>\n",
       "      <th>97</th>\n",
       "      <td>C1QL4</td>\n",
       "      <td>0.003434</td>\n",
       "    </tr>\n",
       "    <tr>\n",
       "      <th>686</th>\n",
       "      <td>PTGES3L-AARSD1</td>\n",
       "      <td>0.003423</td>\n",
       "    </tr>\n",
       "    <tr>\n",
       "      <th>570</th>\n",
       "      <td>NOS2</td>\n",
       "      <td>0.003369</td>\n",
       "    </tr>\n",
       "    <tr>\n",
       "      <th>201</th>\n",
       "      <td>CRYBG2</td>\n",
       "      <td>0.003287</td>\n",
       "    </tr>\n",
       "    <tr>\n",
       "      <th>863</th>\n",
       "      <td>SRGN</td>\n",
       "      <td>0.003280</td>\n",
       "    </tr>\n",
       "  </tbody>\n",
       "</table>\n",
       "</div>"
      ],
      "text/plain": [
       "            feature  feature_importance\n",
       "676          PRSS23            0.010923\n",
       "977           VPS45            0.010585\n",
       "983           WDR89            0.008390\n",
       "35           ANKUB1            0.008278\n",
       "701            RALY            0.006719\n",
       "388           HSPD1            0.006644\n",
       "659       PPP2R2DP1            0.005872\n",
       "185           CNOT6            0.005806\n",
       "519         MIR4797            0.005749\n",
       "891           TEX38            0.005330\n",
       "780          RPUSD4            0.005203\n",
       "916          TMEM79            0.004885\n",
       "902           TLR10            0.004675\n",
       "101         C4orf45            0.004624\n",
       "283          EZH2P1            0.004498\n",
       "769       RPL23AP57            0.004446\n",
       "44         APOBEC3B            0.004321\n",
       "808           SH2B3            0.004114\n",
       "438        KRTAP5-2            0.004104\n",
       "509            MGMT            0.004057\n",
       "305          FBXO43            0.003982\n",
       "3           ABHD16B            0.003706\n",
       "675           PRRC1            0.003692\n",
       "742        RN7SL88P            0.003680\n",
       "116        CATSPER1            0.003583\n",
       "97            C1QL4            0.003434\n",
       "686  PTGES3L-AARSD1            0.003423\n",
       "570            NOS2            0.003369\n",
       "201          CRYBG2            0.003287\n",
       "863            SRGN            0.003280"
      ]
     },
     "execution_count": 11,
     "metadata": {},
     "output_type": "execute_result"
    }
   ],
   "source": [
    "df_feature_importance.head(30)"
   ]
  },
  {
   "cell_type": "code",
   "execution_count": 12,
   "metadata": {},
   "outputs": [],
   "source": [
    "df_feature_importance.to_csv('../data/pni_follow_up_analysis_feature_importance.csv',index = False)"
   ]
  },
  {
   "cell_type": "markdown",
   "metadata": {},
   "source": [
    "# Fit model (10 folds - 80/20 split) with only top 25 features"
   ]
  },
  {
   "cell_type": "code",
   "execution_count": 16,
   "metadata": {},
   "outputs": [],
   "source": [
    "top_25_features = list(df_feature_importance.head(25)['feature'].values)"
   ]
  },
  {
   "cell_type": "code",
   "execution_count": 18,
   "metadata": {},
   "outputs": [
    {
     "name": "stdout",
     "output_type": "stream",
     "text": [
      "['PRSS23', 'VPS45', 'WDR89', 'ANKUB1', 'RALY', 'HSPD1', 'PPP2R2DP1', 'CNOT6', 'MIR4797', 'TEX38', 'RPUSD4', 'TMEM79', 'TLR10', 'C4orf45', 'EZH2P1', 'RPL23AP57', 'APOBEC3B', 'SH2B3', 'KRTAP5-2', 'MGMT', 'FBXO43', 'ABHD16B', 'PRRC1', 'RN7SL88P', 'CATSPER1']\n"
     ]
    }
   ],
   "source": [
    "print(top_25_features)"
   ]
  },
  {
   "cell_type": "code",
   "execution_count": 19,
   "metadata": {},
   "outputs": [],
   "source": [
    "X_25 = X[top_25_features]"
   ]
  },
  {
   "cell_type": "markdown",
   "metadata": {},
   "source": [
    "### confirm that there are only 25 columns"
   ]
  },
  {
   "cell_type": "code",
   "execution_count": 25,
   "metadata": {},
   "outputs": [
    {
     "data": {
      "text/plain": [
       "(1334, 25)"
      ]
     },
     "execution_count": 25,
     "metadata": {},
     "output_type": "execute_result"
    }
   ],
   "source": [
    "X_25.shape"
   ]
  },
  {
   "cell_type": "markdown",
   "metadata": {},
   "source": [
    "## fit 10 folds for the 25 column data"
   ]
  },
  {
   "cell_type": "code",
   "execution_count": 23,
   "metadata": {},
   "outputs": [],
   "source": [
    "roc_auc_list_25 = []\n",
    "for i in range(10):\n",
    "    # split dataset randomly (change random state parameter every iteration)\n",
    "    X_train_25, X_test_25, y_train, y_test = train_test_split(X_25, y, random_state = i, test_size = .2)\n",
    "    \n",
    "    # fit model and output prediction probabilities for class 1 \n",
    "    rf_model_25 = RandomForestClassifier(n_estimators=100, \n",
    "                                      max_depth=25, \n",
    "                                      min_samples_leaf=3, \n",
    "                                      verbose=0, \n",
    "                                      random_state = 1)\n",
    "    rf_model_25.fit(X_train_25,y_train)\n",
    "    \n",
    "    y_pred_proba_25 = rf_model_25.predict_proba(X_test_25)[:,1]\n",
    "    \n",
    "    # generate roc auc score and append to the list \n",
    "    roc_auc_25 = roc_auc_score(y_test, y_pred_proba_25)\n",
    "    roc_auc_list_25.append(roc_auc_25)"
   ]
  },
  {
   "cell_type": "code",
   "execution_count": 24,
   "metadata": {},
   "outputs": [
    {
     "data": {
      "text/plain": [
       "[0.772196261682243,\n",
       " 0.789755257655885,\n",
       " 0.7763685700802266,\n",
       " 0.7484859720677296,\n",
       " 0.7694805194805195,\n",
       " 0.782111801242236,\n",
       " 0.7796934865900383,\n",
       " 0.7676845997852798,\n",
       " 0.7852941176470588,\n",
       " 0.780531968031968]"
      ]
     },
     "execution_count": 24,
     "metadata": {},
     "output_type": "execute_result"
    }
   ],
   "source": [
    "roc_auc_list_25"
   ]
  },
  {
   "cell_type": "markdown",
   "metadata": {},
   "source": [
    "### report auc stats for 25 feature model"
   ]
  },
  {
   "cell_type": "code",
   "execution_count": 27,
   "metadata": {},
   "outputs": [
    {
     "name": "stdout",
     "output_type": "stream",
     "text": [
      "mean auc for 10 folds (25 features) is 0.775\n",
      "std auc for 10 folds (25 features) is 0.011\n",
      "max auc for 10 folds (25 features) is 0.790\n",
      "min auc for 10 folds (25 features) is 0.748\n"
     ]
    }
   ],
   "source": [
    "print('mean auc for 10 folds (25 features) is {:.3f}'.format(np.mean(roc_auc_list_25)))\n",
    "print('std auc for 10 folds (25 features) is {:.3f}'.format(np.std(roc_auc_list_25)))\n",
    "print('max auc for 10 folds (25 features) is {:.3f}'.format(np.max(roc_auc_list_25)))\n",
    "print('min auc for 10 folds (25 features) is {:.3f}'.format(np.min(roc_auc_list_25)))"
   ]
  },
  {
   "cell_type": "code",
   "execution_count": null,
   "metadata": {},
   "outputs": [],
   "source": []
  },
  {
   "cell_type": "markdown",
   "metadata": {},
   "source": [
    "# Fit model (10 folds - 80/20 split) with only top 50 features"
   ]
  },
  {
   "cell_type": "code",
   "execution_count": 28,
   "metadata": {},
   "outputs": [],
   "source": [
    "top_50_features = list(df_feature_importance.head(50)['feature'].values)"
   ]
  },
  {
   "cell_type": "code",
   "execution_count": 29,
   "metadata": {},
   "outputs": [
    {
     "name": "stdout",
     "output_type": "stream",
     "text": [
      "['PRSS23', 'VPS45', 'WDR89', 'ANKUB1', 'RALY', 'HSPD1', 'PPP2R2DP1', 'CNOT6', 'MIR4797', 'TEX38', 'RPUSD4', 'TMEM79', 'TLR10', 'C4orf45', 'EZH2P1', 'RPL23AP57', 'APOBEC3B', 'SH2B3', 'KRTAP5-2', 'MGMT', 'FBXO43', 'ABHD16B', 'PRRC1', 'RN7SL88P', 'CATSPER1', 'C1QL4', 'PTGES3L-AARSD1', 'NOS2', 'CRYBG2', 'SRGN', 'PDLIM2', 'FGFRL1', 'H1-6', 'UGT3A2', 'EVC2', 'SYNC', 'PNRC2', 'FCRL2', 'MBLAC2', 'CUL4B', 'SULT1A1', 'MAGI2', 'PPP4R1', 'SNX29P1', 'UTP3', 'ZNF547', 'SEMA4B', 'RNA5SP466', 'TDRD6', 'GPR88']\n"
     ]
    }
   ],
   "source": [
    "print(top_50_features)"
   ]
  },
  {
   "cell_type": "code",
   "execution_count": 30,
   "metadata": {},
   "outputs": [],
   "source": [
    "X_50 = X[top_50_features]"
   ]
  },
  {
   "cell_type": "markdown",
   "metadata": {},
   "source": [
    "### confirm that there are only 50 columns"
   ]
  },
  {
   "cell_type": "code",
   "execution_count": 31,
   "metadata": {},
   "outputs": [
    {
     "data": {
      "text/plain": [
       "(1334, 50)"
      ]
     },
     "execution_count": 31,
     "metadata": {},
     "output_type": "execute_result"
    }
   ],
   "source": [
    "X_50.shape"
   ]
  },
  {
   "cell_type": "markdown",
   "metadata": {},
   "source": [
    "## fit 10 folds for the 50 column data"
   ]
  },
  {
   "cell_type": "code",
   "execution_count": 32,
   "metadata": {},
   "outputs": [],
   "source": [
    "roc_auc_list_50 = []\n",
    "for i in range(10):\n",
    "    # split dataset randomly (change random state parameter every iteration)\n",
    "    X_train_50, X_test_50, y_train, y_test = train_test_split(X_50, y, random_state = i, test_size = .2)\n",
    "    \n",
    "    # fit model and output prediction probabilities for class 1 \n",
    "    rf_model_50 = RandomForestClassifier(n_estimators=100, \n",
    "                                      max_depth=50, \n",
    "                                      min_samples_leaf=3, \n",
    "                                      verbose=0, \n",
    "                                      random_state = 1)\n",
    "    rf_model_50.fit(X_train_50,y_train)\n",
    "    \n",
    "    y_pred_proba_50 = rf_model_50.predict_proba(X_test_50)[:,1]\n",
    "    \n",
    "    # generate roc auc score and append to the list \n",
    "    roc_auc_50 = roc_auc_score(y_test, y_pred_proba_50)\n",
    "    roc_auc_list_50.append(roc_auc_50)"
   ]
  },
  {
   "cell_type": "code",
   "execution_count": 33,
   "metadata": {},
   "outputs": [
    {
     "data": {
      "text/plain": [
       "[0.7937500000000001,\n",
       " 0.7995326528102324,\n",
       " 0.7763685700802265,\n",
       " 0.7519466073414905,\n",
       " 0.798076923076923,\n",
       " 0.7977950310559008,\n",
       " 0.7865900383141762,\n",
       " 0.7864129786472623,\n",
       " 0.7885695187165775,\n",
       " 0.7847777222777222]"
      ]
     },
     "execution_count": 33,
     "metadata": {},
     "output_type": "execute_result"
    }
   ],
   "source": [
    "roc_auc_list_50"
   ]
  },
  {
   "cell_type": "markdown",
   "metadata": {},
   "source": [
    "### report auc stats for 50 feature model"
   ]
  },
  {
   "cell_type": "code",
   "execution_count": 34,
   "metadata": {},
   "outputs": [
    {
     "name": "stdout",
     "output_type": "stream",
     "text": [
      "mean auc for 10 folds (50 features) is 0.786\n",
      "std auc for 10 folds (50 features) is 0.013\n",
      "max auc for 10 folds (50 features) is 0.800\n",
      "min auc for 10 folds (50 features) is 0.752\n"
     ]
    }
   ],
   "source": [
    "print('mean auc for 10 folds (50 features) is {:.3f}'.format(np.mean(roc_auc_list_50)))\n",
    "print('std auc for 10 folds (50 features) is {:.3f}'.format(np.std(roc_auc_list_50)))\n",
    "print('max auc for 10 folds (50 features) is {:.3f}'.format(np.max(roc_auc_list_50)))\n",
    "print('min auc for 10 folds (50 features) is {:.3f}'.format(np.min(roc_auc_list_50)))"
   ]
  },
  {
   "cell_type": "code",
   "execution_count": null,
   "metadata": {},
   "outputs": [],
   "source": []
  }
 ],
 "metadata": {
  "kernelspec": {
   "display_name": "Python 3",
   "language": "python",
   "name": "python3"
  },
  "language_info": {
   "codemirror_mode": {
    "name": "ipython",
    "version": 3
   },
   "file_extension": ".py",
   "mimetype": "text/x-python",
   "name": "python",
   "nbconvert_exporter": "python",
   "pygments_lexer": "ipython3",
   "version": "3.6.7"
  }
 },
 "nbformat": 4,
 "nbformat_minor": 2
}
