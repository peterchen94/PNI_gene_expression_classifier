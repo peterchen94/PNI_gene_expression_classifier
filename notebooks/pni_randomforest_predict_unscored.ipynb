{
 "cells": [
  {
   "cell_type": "code",
   "execution_count": 1,
   "metadata": {},
   "outputs": [],
   "source": [
    "import matplotlib.pyplot as plt\n",
    "import pandas as pd \n",
    "import numpy as np\n",
    "import pandas as pd\n",
    "import xgboost\n",
    "from sklearn.ensemble import RandomForestClassifier\n",
    "from sklearn.metrics import auc, roc_auc_score\n",
    "from sklearn.model_selection import StratifiedKFold\n",
    "\n"
   ]
  },
  {
   "cell_type": "markdown",
   "metadata": {},
   "source": [
    "# Evaluate probability of unscored dataset"
   ]
  },
  {
   "cell_type": "code",
   "execution_count": 2,
   "metadata": {},
   "outputs": [],
   "source": [
    "df = pd.read_csv(\"../data/pni_001_cleaned.csv\")\n"
   ]
  },
  {
   "cell_type": "code",
   "execution_count": 3,
   "metadata": {},
   "outputs": [
    {
     "name": "stdout",
     "output_type": "stream",
     "text": [
      "0.804160125588697\n"
     ]
    }
   ],
   "source": [
    "X = df.drop(['ID','PNI'],axis =1)\n",
    "y = df['PNI']\n",
    "    \n",
    "cv = StratifiedKFold(n_splits=5, random_state = 0, shuffle = True)\n",
    "\n",
    "clf_cv = RandomForestClassifier(n_estimators=200,\n",
    "    max_depth=25,\n",
    "    min_samples_leaf=1,\n",
    "    verbose=0)\n",
    "\n",
    "# Use fold 1 model\n",
    "\n",
    "for i, (train, test) in enumerate(cv.split(X, y)):\n",
    "    if i == 1:\n",
    "        clf_cv.fit(X.iloc[train], y.iloc[train])\n",
    "        y_pred = clf_cv.predict_proba(X.iloc[test])[:,1]\n",
    "        print(roc_auc_score(y.iloc[test],y_pred))"
   ]
  },
  {
   "cell_type": "code",
   "execution_count": 11,
   "metadata": {},
   "outputs": [
    {
     "data": {
      "text/plain": [
       "1.0    845\n",
       "0.0    489\n",
       "Name: PNI, dtype: int64"
      ]
     },
     "execution_count": 11,
     "metadata": {},
     "output_type": "execute_result"
    }
   ],
   "source": [
    "y.value_counts()"
   ]
  },
  {
   "cell_type": "code",
   "execution_count": 4,
   "metadata": {},
   "outputs": [],
   "source": [
    "x_cols = list(X.columns)\n",
    "x_cols_total = x_cols + ['ID']"
   ]
  },
  {
   "cell_type": "code",
   "execution_count": 5,
   "metadata": {},
   "outputs": [],
   "source": [
    "df_unscored = pd.read_csv('data/unannotatedPNIprob_forPeter.csv')"
   ]
  },
  {
   "cell_type": "code",
   "execution_count": 6,
   "metadata": {},
   "outputs": [
    {
     "data": {
      "text/plain": [
       "RandomForestClassifier(bootstrap=True, class_weight=None, criterion='gini',\n",
       "            max_depth=25, max_features='auto', max_leaf_nodes=None,\n",
       "            min_impurity_decrease=0.0, min_impurity_split=None,\n",
       "            min_samples_leaf=1, min_samples_split=2,\n",
       "            min_weight_fraction_leaf=0.0, n_estimators=200, n_jobs=None,\n",
       "            oob_score=False, random_state=None, verbose=0,\n",
       "            warm_start=False)"
      ]
     },
     "execution_count": 6,
     "metadata": {},
     "output_type": "execute_result"
    }
   ],
   "source": [
    "df_unscored.rename({'X':'gene'},axis = 1,inplace = True)\n",
    "df_unscored = df_unscored.set_index(keys = ['gene'])\n",
    "df_unscored = df_unscored.transpose()\n",
    "df_unscored= df_unscored.reset_index()\n",
    "df_unscored.rename({'index':'ID'},axis = 1,inplace = True)\n",
    "\n",
    "X_unscored = df_unscored[x_cols]\n",
    "\n",
    "y_pred_proba = clf_cv.predict_proba(X_unscored)[:,1]\n",
    "\n",
    "df_results_PNI = pd.DataFrame({\n",
    "    'ID': df_unscored['ID'],\n",
    "    'Probability': y_pred_proba\n",
    "})\n",
    "\n",
    "clf_total = RandomForestClassifier(n_estimators=200,\n",
    "    max_depth=25,\n",
    "    min_samples_leaf=1,\n",
    "    verbose=0)\n",
    "\n",
    "clf_total.fit(X, y)"
   ]
  },
  {
   "cell_type": "code",
   "execution_count": 7,
   "metadata": {},
   "outputs": [
    {
     "data": {
      "text/plain": [
       "count    617.000000\n",
       "mean       0.000352\n",
       "std        0.048483\n",
       "min       -0.149724\n",
       "25%       -0.034076\n",
       "50%        0.004611\n",
       "75%        0.030484\n",
       "max        0.159907\n",
       "Name: diff, dtype: float64"
      ]
     },
     "execution_count": 7,
     "metadata": {},
     "output_type": "execute_result"
    }
   ],
   "source": [
    "y_pred_proba_total = clf_total.predict_proba(X_unscored)[:,1]\n",
    "\n",
    "df_results_PNI_total = pd.DataFrame({\n",
    "    'ID': df_unscored['ID'],\n",
    "    'probability_cv_model':y_pred_proba,\n",
    "    'probability_total_model': y_pred_proba_total\n",
    "})\n",
    "\n",
    "df_results_PNI_total.to_csv('data/unannotated_scored_pni001.csv',index= False)\n",
    "\n",
    "df_results_PNI_total['diff'] = df_results_PNI_total['probability_cv_model'] - df_results_PNI_total['probability_total_model']\n",
    "\n",
    "df_results_PNI_total['diff'].describe()"
   ]
  },
  {
   "cell_type": "code",
   "execution_count": 9,
   "metadata": {},
   "outputs": [
    {
     "data": {
      "text/plain": [
       "Text(0.5, 1.0, 'PNI unscored probability histogram')"
      ]
     },
     "execution_count": 9,
     "metadata": {},
     "output_type": "execute_result"
    },
    {
     "data": {
      "image/png": "[encoded data removed]",
      "text/plain": [
       "<Figure size 432x288 with 1 Axes>"
      ]
     },
     "metadata": {
      "needs_background": "light"
     },
     "output_type": "display_data"
    }
   ],
   "source": [
    "df_results_PNI_total['probability_total_model'].hist()\n",
    "plt.title('PNI unscored probability histogram')"
   ]
  },
  {
   "cell_type": "code",
   "execution_count": 10,
   "metadata": {},
   "outputs": [
    {
     "data": {
      "text/plain": [
       "count    617.000000\n",
       "mean       0.570384\n",
       "std        0.133773\n",
       "min        0.234986\n",
       "25%        0.494901\n",
       "50%        0.584972\n",
       "75%        0.654231\n",
       "max        0.917788\n",
       "Name: probability_total_model, dtype: float64"
      ]
     },
     "execution_count": 10,
     "metadata": {},
     "output_type": "execute_result"
    }
   ],
   "source": [
    "df_results_PNI_total['probability_total_model'].describe()"
   ]
  }
 ],
 "metadata": {
  "kernelspec": {
   "display_name": "Python 3",
   "language": "python",
   "name": "python3"
  },
  "language_info": {
   "codemirror_mode": {
    "name": "ipython",
    "version": 3
   },
   "file_extension": ".py",
   "mimetype": "text/x-python",
   "name": "python",
   "nbconvert_exporter": "python",
   "pygments_lexer": "ipython3",
   "version": "3.6.7"
  }
 },
 "nbformat": 4,
 "nbformat_minor": 2
}
