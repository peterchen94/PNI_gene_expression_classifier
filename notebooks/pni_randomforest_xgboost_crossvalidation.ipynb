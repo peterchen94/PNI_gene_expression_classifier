{
 "cells": [
  {
   "cell_type": "code",
   "execution_count": 2,
   "metadata": {},
   "outputs": [],
   "source": [
    "import xgboost\n",
    "import numpy as np\n",
    "import pandas as pd\n",
    "from sklearn.ensemble import RandomForestClassifier\n",
    "from sklearn.model_selection import cross_val_predict\n",
    "import matplotlib.pyplot as plt\n",
    "from sklearn.model_selection import StratifiedKFold\n",
    "from sklearn.metrics import roc_auc_score"
   ]
  },
  {
   "cell_type": "markdown",
   "metadata": {},
   "source": [
    "# Generate CV scores for random forest and xgb to validate results of Dataiku AutoML results"
   ]
  },
  {
   "cell_type": "code",
   "execution_count": 3,
   "metadata": {},
   "outputs": [],
   "source": [
    "df = pd.read_csv(\"../data/PNI_001_cleaned.csv\")\n",
    "\n",
    "X = df.drop(['ID','PNI'],axis =1).values\n",
    "y = df['PNI'].values\n",
    "ID = df['ID'].values"
   ]
  },
  {
   "cell_type": "code",
   "execution_count": null,
   "metadata": {},
   "outputs": [],
   "source": [
    "cv = StratifiedKFold(n_splits=5,shuffle = True)\n",
    "clf = RandomForestClassifier(n_estimators=200,max_depth=25,min_samples_leaf=1,verbose=0)\n",
    "clf = xgboost.XGBClassifier()\n",
    "\n",
    "id_list = []\n",
    "y_test_list = []\n",
    "y_pred_list = []\n",
    "for i, (train, test) in enumerate(cv.split(X, y)):\n",
    "    clf.fit(X[train], y[train])\n",
    "    y_pred = clf.predict_proba(X[test])[:,1]\n",
    "    \n",
    "    print(roc_auc_score(y[test],y_pred))\n",
    "    y_pred_list.append(list(y_pred))\n",
    "    y_test_list.append(list(y[test]))\n",
    "    id_list.append(list(ID[test]))"
   ]
  },
  {
   "cell_type": "code",
   "execution_count": 7,
   "metadata": {},
   "outputs": [],
   "source": [
    "y_pred_list_flat = [item for sublist in y_pred_list for item in sublist]\n",
    "y_test_list_flat = [item for sublist in y_test_list for item in sublist]\n",
    "id_list_flat = [item for sublist in id_list for item in sublist]"
   ]
  },
  {
   "cell_type": "code",
   "execution_count": 8,
   "metadata": {},
   "outputs": [],
   "source": [
    "df_results = pd.DataFrame({'probability':y_pred_list_flat,\n",
    "                          'PNI': y_test_list_flat,\n",
    "                          'ID': id_list_flat})"
   ]
  },
  {
   "cell_type": "code",
   "execution_count": 9,
   "metadata": {},
   "outputs": [],
   "source": [
    "df_results.to_csv('pni001_rf_predictions.csv',index = False)"
   ]
  },
  {
   "cell_type": "code",
   "execution_count": null,
   "metadata": {},
   "outputs": [],
   "source": [
    "import seaborn as sns\n",
    "sns.distplot(df_results[df_results['PNI'] == 0]['probability'], color = 'blue', kde = False, norm_hist = True)\n",
    "sns.distplot(df_results[df_results['PNI'] == 1]['probability'], color = 'red', kde = False, norm_hist = True)\n",
    "plt.legend(['PNI = 0', 'PNI = 1'])\n",
    "plt.title('Normalized Histogram for PNI Probability')\n"
   ]
  }
 ],
 "metadata": {
  "kernelspec": {
   "display_name": "Python 3",
   "language": "python",
   "name": "python3"
  },
  "language_info": {
   "codemirror_mode": {
    "name": "ipython",
    "version": 3
   },
   "file_extension": ".py",
   "mimetype": "text/x-python",
   "name": "python",
   "nbconvert_exporter": "python",
   "pygments_lexer": "ipython3",
   "version": "3.6.7"
  }
 },
 "nbformat": 4,
 "nbformat_minor": 4
}
